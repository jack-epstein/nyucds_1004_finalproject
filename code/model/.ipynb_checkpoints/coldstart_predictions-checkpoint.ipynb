{
 "cells": [
  {
   "cell_type": "markdown",
   "metadata": {},
   "source": [
    "# Coldstart Predictions\n",
    "The script takes in the new $V'$ matrix generated from the cold start regression model and generates new predictions for each of the users in the training data"
   ]
  },
  {
   "cell_type": "code",
   "execution_count": 1,
   "metadata": {},
   "outputs": [],
   "source": [
    "from pathlib import Path\n",
    "import pandas as pd\n",
    "import numpy as np\n",
    "\n",
    "import os\n",
    "from glob import glob"
   ]
  },
  {
   "cell_type": "code",
   "execution_count": 2,
   "metadata": {},
   "outputs": [],
   "source": [
    "#set up directories\n",
    "data_dir_v = Path('../../data/itemFactors_r200_kNNupdated_v2/') #change this based on which V matrix to take in\n",
    "data_dir_u = Path('../../data/userFactors_r200/') #change this based on which U matrix to take in\n",
    "data_dir_val = Path('../../data/valUsers/')\n",
    "data_dir = '../../data/'"
   ]
  },
  {
   "cell_type": "code",
   "execution_count": 3,
   "metadata": {},
   "outputs": [
    {
     "name": "stdout",
     "output_type": "stream",
     "text": [
      "V shape: (320739, 2)\n"
     ]
    },
    {
     "data": {
      "text/html": [
       "<div>\n",
       "<style scoped>\n",
       "    .dataframe tbody tr th:only-of-type {\n",
       "        vertical-align: middle;\n",
       "    }\n",
       "\n",
       "    .dataframe tbody tr th {\n",
       "        vertical-align: top;\n",
       "    }\n",
       "\n",
       "    .dataframe thead th {\n",
       "        text-align: right;\n",
       "    }\n",
       "</style>\n",
       "<table border=\"1\" class=\"dataframe\">\n",
       "  <thead>\n",
       "    <tr style=\"text-align: right;\">\n",
       "      <th></th>\n",
       "      <th>id</th>\n",
       "      <th>features</th>\n",
       "    </tr>\n",
       "  </thead>\n",
       "  <tbody>\n",
       "    <tr>\n",
       "      <th>96219</th>\n",
       "      <td>-534224064</td>\n",
       "      <td>[-0.009564603678882122, 0.05479266121983528, 0...</td>\n",
       "    </tr>\n",
       "    <tr>\n",
       "      <th>96220</th>\n",
       "      <td>-534219288</td>\n",
       "      <td>[0.009427841752767563, -0.012406221590936184, ...</td>\n",
       "    </tr>\n",
       "    <tr>\n",
       "      <th>96221</th>\n",
       "      <td>-534207492</td>\n",
       "      <td>[-0.03337208554148674, 0.0655897706747055, -0....</td>\n",
       "    </tr>\n",
       "    <tr>\n",
       "      <th>96222</th>\n",
       "      <td>-534201694</td>\n",
       "      <td>[0.003339017741382122, 0.0071647330187261105, ...</td>\n",
       "    </tr>\n",
       "    <tr>\n",
       "      <th>96223</th>\n",
       "      <td>-534182781</td>\n",
       "      <td>[-0.001448197872377932, -0.05940604954957962, ...</td>\n",
       "    </tr>\n",
       "  </tbody>\n",
       "</table>\n",
       "</div>"
      ],
      "text/plain": [
       "              id                                           features\n",
       "96219 -534224064  [-0.009564603678882122, 0.05479266121983528, 0...\n",
       "96220 -534219288  [0.009427841752767563, -0.012406221590936184, ...\n",
       "96221 -534207492  [-0.03337208554148674, 0.0655897706747055, -0....\n",
       "96222 -534201694  [0.003339017741382122, 0.0071647330187261105, ...\n",
       "96223 -534182781  [-0.001448197872377932, -0.05940604954957962, ..."
      ]
     },
     "execution_count": 3,
     "metadata": {},
     "output_type": "execute_result"
    }
   ],
   "source": [
    "#read in V and check shape\n",
    "latentItems = pd.concat(\n",
    "    pd.read_parquet(parquet_file)\n",
    "    for parquet_file in data_dir_v.glob('*.parquet')\n",
    ")\n",
    "\n",
    "print(\"V shape:\",latentItems.shape)\n",
    "latentItems.head()"
   ]
  },
  {
   "cell_type": "code",
   "execution_count": 4,
   "metadata": {},
   "outputs": [
    {
     "name": "stdout",
     "output_type": "stream",
     "text": [
      "U shape: (1112050, 2)\n"
     ]
    },
    {
     "data": {
      "text/html": [
       "<div>\n",
       "<style scoped>\n",
       "    .dataframe tbody tr th:only-of-type {\n",
       "        vertical-align: middle;\n",
       "    }\n",
       "\n",
       "    .dataframe tbody tr th {\n",
       "        vertical-align: top;\n",
       "    }\n",
       "\n",
       "    .dataframe thead th {\n",
       "        text-align: right;\n",
       "    }\n",
       "</style>\n",
       "<table border=\"1\" class=\"dataframe\">\n",
       "  <thead>\n",
       "    <tr style=\"text-align: right;\">\n",
       "      <th></th>\n",
       "      <th>id</th>\n",
       "      <th>features</th>\n",
       "    </tr>\n",
       "  </thead>\n",
       "  <tbody>\n",
       "    <tr>\n",
       "      <th>0</th>\n",
       "      <td>-2143737963</td>\n",
       "      <td>[0.04503257, -0.1381214, 0.004369732, 0.024514...</td>\n",
       "    </tr>\n",
       "    <tr>\n",
       "      <th>1</th>\n",
       "      <td>-2141308963</td>\n",
       "      <td>[-0.041152455, -0.07105676, -0.06608401, -0.01...</td>\n",
       "    </tr>\n",
       "    <tr>\n",
       "      <th>2</th>\n",
       "      <td>-2140438363</td>\n",
       "      <td>[0.10122766, 0.014004348, -0.06525432, -0.0303...</td>\n",
       "    </tr>\n",
       "    <tr>\n",
       "      <th>3</th>\n",
       "      <td>-2140033363</td>\n",
       "      <td>[-0.09476472, -0.037693784, -0.17497699, -0.01...</td>\n",
       "    </tr>\n",
       "    <tr>\n",
       "      <th>4</th>\n",
       "      <td>-2139593563</td>\n",
       "      <td>[0.11070782, -0.08256894, -0.19954483, 0.04065...</td>\n",
       "    </tr>\n",
       "  </tbody>\n",
       "</table>\n",
       "</div>"
      ],
      "text/plain": [
       "           id                                           features\n",
       "0 -2143737963  [0.04503257, -0.1381214, 0.004369732, 0.024514...\n",
       "1 -2141308963  [-0.041152455, -0.07105676, -0.06608401, -0.01...\n",
       "2 -2140438363  [0.10122766, 0.014004348, -0.06525432, -0.0303...\n",
       "3 -2140033363  [-0.09476472, -0.037693784, -0.17497699, -0.01...\n",
       "4 -2139593563  [0.11070782, -0.08256894, -0.19954483, 0.04065..."
      ]
     },
     "execution_count": 4,
     "metadata": {},
     "output_type": "execute_result"
    }
   ],
   "source": [
    "#read in U and check shape\n",
    "latentUsers = pd.concat(\n",
    "    pd.read_parquet(parquet_file)\n",
    "    for parquet_file in data_dir_u.glob('*.parquet')\n",
    ")\n",
    "\n",
    "print(\"U shape:\", latentUsers.shape)\n",
    "latentUsers.head()"
   ]
  },
  {
   "cell_type": "code",
   "execution_count": 5,
   "metadata": {},
   "outputs": [
    {
     "name": "stdout",
     "output_type": "stream",
     "text": [
      "Val Users shape: (10000, 1)\n"
     ]
    },
    {
     "data": {
      "text/html": [
       "<div>\n",
       "<style scoped>\n",
       "    .dataframe tbody tr th:only-of-type {\n",
       "        vertical-align: middle;\n",
       "    }\n",
       "\n",
       "    .dataframe tbody tr th {\n",
       "        vertical-align: top;\n",
       "    }\n",
       "\n",
       "    .dataframe thead th {\n",
       "        text-align: right;\n",
       "    }\n",
       "</style>\n",
       "<table border=\"1\" class=\"dataframe\">\n",
       "  <thead>\n",
       "    <tr style=\"text-align: right;\">\n",
       "      <th></th>\n",
       "      <th>user_hashId</th>\n",
       "    </tr>\n",
       "  </thead>\n",
       "  <tbody>\n",
       "    <tr>\n",
       "      <th>0</th>\n",
       "      <td>814602782</td>\n",
       "    </tr>\n",
       "    <tr>\n",
       "      <th>1</th>\n",
       "      <td>1736832637</td>\n",
       "    </tr>\n",
       "    <tr>\n",
       "      <th>2</th>\n",
       "      <td>-1895008463</td>\n",
       "    </tr>\n",
       "    <tr>\n",
       "      <th>3</th>\n",
       "      <td>-671404564</td>\n",
       "    </tr>\n",
       "    <tr>\n",
       "      <th>4</th>\n",
       "      <td>-1083396133</td>\n",
       "    </tr>\n",
       "  </tbody>\n",
       "</table>\n",
       "</div>"
      ],
      "text/plain": [
       "   user_hashId\n",
       "0    814602782\n",
       "1   1736832637\n",
       "2  -1895008463\n",
       "3   -671404564\n",
       "4  -1083396133"
      ]
     },
     "execution_count": 5,
     "metadata": {},
     "output_type": "execute_result"
    }
   ],
   "source": [
    "#read in val user list and check shape\n",
    "valUsers = pd.concat(\n",
    "    pd.read_parquet(parquet_file)\n",
    "    for parquet_file in data_dir_val.glob('*.parquet')\n",
    ")\n",
    "\n",
    "print(\"Val Users shape:\",valUsers.shape)\n",
    "valUsers.head()"
   ]
  },
  {
   "cell_type": "code",
   "execution_count": 6,
   "metadata": {},
   "outputs": [],
   "source": [
    "# Filter V to just the users we care about\n",
    "valUsers = valUsers.rename(columns={\"user_hashId\": \"id\"})\n",
    "latentUsers = latentUsers.merge(valUsers, on='id')"
   ]
  },
  {
   "cell_type": "code",
   "execution_count": null,
   "metadata": {},
   "outputs": [],
   "source": [
    "# Turn item matrix into dask array\n",
    "latentItems_dd = dd.from_pandas(latentItems, chunksize=100)\n",
    "latentItems_da = da.stack(latentItems_dd[\"features\"])\n",
    "latentItems_da = latentItems_da.rechunk((1000, 200))"
   ]
  },
  {
   "cell_type": "code",
   "execution_count": 7,
   "metadata": {},
   "outputs": [],
   "source": [
    "# Turn the features column into a matrix\n",
    "latentItems_feats = np.stack(latentItems[\"features\"])"
   ]
  },
  {
   "cell_type": "code",
   "execution_count": 8,
   "metadata": {},
   "outputs": [
    {
     "name": "stdout",
     "output_type": "stream",
     "text": [
      "Finished 0\n",
      "Finished 500\n",
      "Finished 1000\n",
      "Finished 1500\n",
      "Finished 2000\n",
      "Finished 2500\n",
      "Finished 3000\n",
      "Finished 3500\n",
      "Finished 4000\n",
      "Finished 4500\n",
      "Finished 5000\n",
      "Finished 5500\n",
      "Finished 6000\n",
      "Finished 6500\n",
      "Finished 7000\n",
      "Finished 7500\n",
      "Finished 8000\n",
      "Finished 8500\n",
      "Finished 9000\n",
      "Finished 9500\n"
     ]
    }
   ],
   "source": [
    "# Iterate through each user\n",
    "# For each user, mutiply its latent factors with all item latent factors\n",
    "# Take the indices of the top 500 scores\n",
    "# Get the items associated with these indices and save them as an array with the user\n",
    "# Write recommendations to a parquet\n",
    "\n",
    "userList = []\n",
    "recList = []\n",
    "\n",
    "for i in range(10000):\n",
    "    userInd = i\n",
    "    latentUsers_single = latentUsers.iloc[userInd]\n",
    "    preds = np.matmul(latentItems_feats, latentUsers_single[\"features\"].transpose())\n",
    "    inds = np.argsort(-preds)[:500]\n",
    "    userList.append(latentUsers.iloc[userInd]['id'])\n",
    "    recList.append(latentItems['id'][inds].to_numpy())\n",
    "    \n",
    "    if i % 500 == 0:\n",
    "        print(f'Finished {i}')\n",
    "\n",
    "df_recs = pd.DataFrame({'user_hashId': userList, 'recommendations': recList}\n",
    "                       , columns=['user_hashId', 'recommendations'])\n",
    "new_path = f'../../data/coldStartRecs_noDask_knn_v2.parquet'\n",
    "df_recs.to_parquet(new_path)"
   ]
  }
 ],
 "metadata": {
  "kernelspec": {
   "display_name": "Python 3",
   "language": "python",
   "name": "python3"
  },
  "language_info": {
   "codemirror_mode": {
    "name": "ipython",
    "version": 3
   },
   "file_extension": ".py",
   "mimetype": "text/x-python",
   "name": "python",
   "nbconvert_exporter": "python",
   "pygments_lexer": "ipython3",
   "version": "3.8.3"
  }
 },
 "nbformat": 4,
 "nbformat_minor": 4
}
