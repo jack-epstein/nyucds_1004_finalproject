{
 "cells": [
  {
   "cell_type": "markdown",
   "metadata": {},
   "source": [
    "# Cold Start Regression Model\n",
    "The purpose of this notebook is to learn the latent factors of an given ALS model using track and artist metadata. <br><br>\n",
    "Inputs:\n",
    "- The Item Factor matrix ($V$) from an ALS model with the shape $n\\times 2$, where $n$ is the number of items included in the model. The 2nd column should contain a list with $r$ elements where $r$ is the rank of the model.\n",
    "- A meta data matrix ($M$) with the shape $N\\times d$ where $N=1,000,000$ which is the total number of songs and $d$ is the number of meta feautres we include in the model\n",
    "- A hash ID matrix ($H$) with the shape $n\\times2$ which allows us to link the given track id with it's hashed id from Spark\n",
    "\n",
    "Output:\n",
    "- A new $n\\times 2$ matrix ($V'$) where most of the elements are the same as $V$ but some are instead held out and re-learned using a multi-dimensional output regression model. The 2nd column is a re-aggregated into a list of $r$ elements"
   ]
  },
  {
   "cell_type": "markdown",
   "metadata": {},
   "source": [
    "### Read in Data"
   ]
  },
  {
   "cell_type": "code",
   "execution_count": 1,
   "metadata": {},
   "outputs": [],
   "source": [
    "import pandas as pd\n",
    "import numpy as np\n",
    "import os\n",
    "from pathlib import Path\n",
    "import dask.dataframe as dd\n",
    "import dask.array as da\n",
    "import time\n",
    "\n",
    "from sklearn.linear_model import Ridge, Lasso\n",
    "from sklearn.preprocessing import StandardScaler\n",
    "from sklearn.metrics import mean_squared_error\n",
    "from sklearn.neighbors import KNeighborsRegressor"
   ]
  },
  {
   "cell_type": "code",
   "execution_count": 2,
   "metadata": {},
   "outputs": [],
   "source": [
    "#set up directories\n",
    "data_dir_v = Path('../../data/itemFactors_r200/') #change this based on which V matrix to take in\n",
    "data_dir_u = Path('../../data/userFactors_r200/') #change this based on which U matrix to take in\n",
    "data_dir_h = Path('../../data/items_hash/')\n",
    "data_dir_val = Path('../../data/valUsers/')\n",
    "data_dir = '../../data/'"
   ]
  },
  {
   "cell_type": "code",
   "execution_count": 3,
   "metadata": {},
   "outputs": [],
   "source": [
    "#file names to take in\n",
    "meta_file = 'items_meta_updated.parquet'"
   ]
  },
  {
   "cell_type": "code",
   "execution_count": 4,
   "metadata": {},
   "outputs": [
    {
     "name": "stdout",
     "output_type": "stream",
     "text": [
      "M shape: (1000000, 590)\n"
     ]
    },
    {
     "data": {
      "text/html": [
       "<div>\n",
       "<style scoped>\n",
       "    .dataframe tbody tr th:only-of-type {\n",
       "        vertical-align: middle;\n",
       "    }\n",
       "\n",
       "    .dataframe tbody tr th {\n",
       "        vertical-align: top;\n",
       "    }\n",
       "\n",
       "    .dataframe thead th {\n",
       "        text-align: right;\n",
       "    }\n",
       "</style>\n",
       "<table border=\"1\" class=\"dataframe\">\n",
       "  <thead>\n",
       "    <tr style=\"text-align: right;\">\n",
       "      <th></th>\n",
       "      <th>track_id</th>\n",
       "      <th>duration</th>\n",
       "      <th>artist_familiarity</th>\n",
       "      <th>artist_hotttnesss</th>\n",
       "      <th>year</th>\n",
       "      <th>rock</th>\n",
       "      <th>electronic</th>\n",
       "      <th>alternative rock</th>\n",
       "      <th>pop</th>\n",
       "      <th>united states</th>\n",
       "      <th>...</th>\n",
       "      <th>clarinet</th>\n",
       "      <th>jam</th>\n",
       "      <th>folklore</th>\n",
       "      <th>greek music</th>\n",
       "      <th>experimental pop</th>\n",
       "      <th>techstep</th>\n",
       "      <th>belgium</th>\n",
       "      <th>psychedelic pop</th>\n",
       "      <th>soft rock</th>\n",
       "      <th>space rock</th>\n",
       "    </tr>\n",
       "  </thead>\n",
       "  <tbody>\n",
       "    <tr>\n",
       "      <th>0</th>\n",
       "      <td>TRMMMYQ128F932D901</td>\n",
       "      <td>252.05506</td>\n",
       "      <td>0.649822</td>\n",
       "      <td>0.394032</td>\n",
       "      <td>2003</td>\n",
       "      <td>1.0</td>\n",
       "      <td>0.0</td>\n",
       "      <td>1.0</td>\n",
       "      <td>0.0</td>\n",
       "      <td>0.0</td>\n",
       "      <td>...</td>\n",
       "      <td>0.0</td>\n",
       "      <td>0.0</td>\n",
       "      <td>0.0</td>\n",
       "      <td>0.0</td>\n",
       "      <td>0.0</td>\n",
       "      <td>0.0</td>\n",
       "      <td>0.0</td>\n",
       "      <td>0.0</td>\n",
       "      <td>0.0</td>\n",
       "      <td>0.0</td>\n",
       "    </tr>\n",
       "    <tr>\n",
       "      <th>1</th>\n",
       "      <td>TRMMMKD128F425225D</td>\n",
       "      <td>156.55138</td>\n",
       "      <td>0.439604</td>\n",
       "      <td>0.356992</td>\n",
       "      <td>1995</td>\n",
       "      <td>1.0</td>\n",
       "      <td>1.0</td>\n",
       "      <td>0.0</td>\n",
       "      <td>0.0</td>\n",
       "      <td>0.0</td>\n",
       "      <td>...</td>\n",
       "      <td>0.0</td>\n",
       "      <td>0.0</td>\n",
       "      <td>0.0</td>\n",
       "      <td>0.0</td>\n",
       "      <td>0.0</td>\n",
       "      <td>0.0</td>\n",
       "      <td>0.0</td>\n",
       "      <td>0.0</td>\n",
       "      <td>0.0</td>\n",
       "      <td>0.0</td>\n",
       "    </tr>\n",
       "    <tr>\n",
       "      <th>2</th>\n",
       "      <td>TRMMMRX128F93187D9</td>\n",
       "      <td>138.97098</td>\n",
       "      <td>0.643681</td>\n",
       "      <td>0.437504</td>\n",
       "      <td>2006</td>\n",
       "      <td>1.0</td>\n",
       "      <td>1.0</td>\n",
       "      <td>0.0</td>\n",
       "      <td>0.0</td>\n",
       "      <td>0.0</td>\n",
       "      <td>...</td>\n",
       "      <td>0.0</td>\n",
       "      <td>0.0</td>\n",
       "      <td>0.0</td>\n",
       "      <td>0.0</td>\n",
       "      <td>0.0</td>\n",
       "      <td>0.0</td>\n",
       "      <td>0.0</td>\n",
       "      <td>0.0</td>\n",
       "      <td>0.0</td>\n",
       "      <td>0.0</td>\n",
       "    </tr>\n",
       "    <tr>\n",
       "      <th>3</th>\n",
       "      <td>TRMMMCH128F425532C</td>\n",
       "      <td>145.05751</td>\n",
       "      <td>0.448501</td>\n",
       "      <td>0.372349</td>\n",
       "      <td>2003</td>\n",
       "      <td>0.0</td>\n",
       "      <td>1.0</td>\n",
       "      <td>0.0</td>\n",
       "      <td>0.0</td>\n",
       "      <td>0.0</td>\n",
       "      <td>...</td>\n",
       "      <td>0.0</td>\n",
       "      <td>0.0</td>\n",
       "      <td>0.0</td>\n",
       "      <td>0.0</td>\n",
       "      <td>0.0</td>\n",
       "      <td>0.0</td>\n",
       "      <td>0.0</td>\n",
       "      <td>0.0</td>\n",
       "      <td>0.0</td>\n",
       "      <td>0.0</td>\n",
       "    </tr>\n",
       "    <tr>\n",
       "      <th>4</th>\n",
       "      <td>TRMMMWA128F426B589</td>\n",
       "      <td>514.29832</td>\n",
       "      <td>0.000000</td>\n",
       "      <td>0.000000</td>\n",
       "      <td>0</td>\n",
       "      <td>0.0</td>\n",
       "      <td>1.0</td>\n",
       "      <td>0.0</td>\n",
       "      <td>1.0</td>\n",
       "      <td>0.0</td>\n",
       "      <td>...</td>\n",
       "      <td>0.0</td>\n",
       "      <td>0.0</td>\n",
       "      <td>0.0</td>\n",
       "      <td>0.0</td>\n",
       "      <td>0.0</td>\n",
       "      <td>0.0</td>\n",
       "      <td>0.0</td>\n",
       "      <td>0.0</td>\n",
       "      <td>0.0</td>\n",
       "      <td>0.0</td>\n",
       "    </tr>\n",
       "  </tbody>\n",
       "</table>\n",
       "<p>5 rows × 590 columns</p>\n",
       "</div>"
      ],
      "text/plain": [
       "             track_id   duration  artist_familiarity  artist_hotttnesss  year  \\\n",
       "0  TRMMMYQ128F932D901  252.05506            0.649822           0.394032  2003   \n",
       "1  TRMMMKD128F425225D  156.55138            0.439604           0.356992  1995   \n",
       "2  TRMMMRX128F93187D9  138.97098            0.643681           0.437504  2006   \n",
       "3  TRMMMCH128F425532C  145.05751            0.448501           0.372349  2003   \n",
       "4  TRMMMWA128F426B589  514.29832            0.000000           0.000000     0   \n",
       "\n",
       "   rock  electronic  alternative rock  pop  united states  ...  clarinet  jam  \\\n",
       "0   1.0         0.0               1.0  0.0            0.0  ...       0.0  0.0   \n",
       "1   1.0         1.0               0.0  0.0            0.0  ...       0.0  0.0   \n",
       "2   1.0         1.0               0.0  0.0            0.0  ...       0.0  0.0   \n",
       "3   0.0         1.0               0.0  0.0            0.0  ...       0.0  0.0   \n",
       "4   0.0         1.0               0.0  1.0            0.0  ...       0.0  0.0   \n",
       "\n",
       "   folklore  greek music  experimental pop  techstep  belgium  \\\n",
       "0       0.0          0.0               0.0       0.0      0.0   \n",
       "1       0.0          0.0               0.0       0.0      0.0   \n",
       "2       0.0          0.0               0.0       0.0      0.0   \n",
       "3       0.0          0.0               0.0       0.0      0.0   \n",
       "4       0.0          0.0               0.0       0.0      0.0   \n",
       "\n",
       "   psychedelic pop  soft rock  space rock  \n",
       "0              0.0        0.0         0.0  \n",
       "1              0.0        0.0         0.0  \n",
       "2              0.0        0.0         0.0  \n",
       "3              0.0        0.0         0.0  \n",
       "4              0.0        0.0         0.0  \n",
       "\n",
       "[5 rows x 590 columns]"
      ]
     },
     "execution_count": 4,
     "metadata": {},
     "output_type": "execute_result"
    }
   ],
   "source": [
    "#read in meta data and check shape\n",
    "meta = pd.read_parquet(os.path.join(data_dir, meta_file))\n",
    "print(\"M shape:\",meta.shape)\n",
    "meta.head()"
   ]
  },
  {
   "cell_type": "code",
   "execution_count": 5,
   "metadata": {},
   "outputs": [
    {
     "name": "stdout",
     "output_type": "stream",
     "text": [
      "V shape: (320733, 2)\n"
     ]
    },
    {
     "data": {
      "text/html": [
       "<div>\n",
       "<style scoped>\n",
       "    .dataframe tbody tr th:only-of-type {\n",
       "        vertical-align: middle;\n",
       "    }\n",
       "\n",
       "    .dataframe tbody tr th {\n",
       "        vertical-align: top;\n",
       "    }\n",
       "\n",
       "    .dataframe thead th {\n",
       "        text-align: right;\n",
       "    }\n",
       "</style>\n",
       "<table border=\"1\" class=\"dataframe\">\n",
       "  <thead>\n",
       "    <tr style=\"text-align: right;\">\n",
       "      <th></th>\n",
       "      <th>id</th>\n",
       "      <th>features</th>\n",
       "    </tr>\n",
       "  </thead>\n",
       "  <tbody>\n",
       "    <tr>\n",
       "      <th>0</th>\n",
       "      <td>-2147302072</td>\n",
       "      <td>[-0.15491447, 0.085363604, -0.041555922, -0.00...</td>\n",
       "    </tr>\n",
       "    <tr>\n",
       "      <th>1</th>\n",
       "      <td>-2140695272</td>\n",
       "      <td>[-0.0003432132, 0.0060855947, 0.008764722, -0....</td>\n",
       "    </tr>\n",
       "    <tr>\n",
       "      <th>2</th>\n",
       "      <td>-2140287472</td>\n",
       "      <td>[0.046909656, 0.014843966, -0.021118047, 0.019...</td>\n",
       "    </tr>\n",
       "    <tr>\n",
       "      <th>3</th>\n",
       "      <td>-2137637672</td>\n",
       "      <td>[0.0077868393, 0.0074665216, 0.0006630516, -0....</td>\n",
       "    </tr>\n",
       "    <tr>\n",
       "      <th>4</th>\n",
       "      <td>-2137226272</td>\n",
       "      <td>[0.035141483, 0.04235267, -0.05442439, -0.0261...</td>\n",
       "    </tr>\n",
       "  </tbody>\n",
       "</table>\n",
       "</div>"
      ],
      "text/plain": [
       "           id                                           features\n",
       "0 -2147302072  [-0.15491447, 0.085363604, -0.041555922, -0.00...\n",
       "1 -2140695272  [-0.0003432132, 0.0060855947, 0.008764722, -0....\n",
       "2 -2140287472  [0.046909656, 0.014843966, -0.021118047, 0.019...\n",
       "3 -2137637672  [0.0077868393, 0.0074665216, 0.0006630516, -0....\n",
       "4 -2137226272  [0.035141483, 0.04235267, -0.05442439, -0.0261..."
      ]
     },
     "execution_count": 5,
     "metadata": {},
     "output_type": "execute_result"
    }
   ],
   "source": [
    "#read in V and check shape\n",
    "latentItems = pd.concat(\n",
    "    pd.read_parquet(parquet_file)\n",
    "    for parquet_file in data_dir_v.glob('*.parquet')\n",
    ")\n",
    "\n",
    "print(\"V shape:\",latentItems.shape)\n",
    "latentItems.head()"
   ]
  },
  {
   "cell_type": "code",
   "execution_count": 6,
   "metadata": {},
   "outputs": [
    {
     "name": "stdout",
     "output_type": "stream",
     "text": [
      "H shape: (385371, 2)\n"
     ]
    },
    {
     "data": {
      "text/html": [
       "<div>\n",
       "<style scoped>\n",
       "    .dataframe tbody tr th:only-of-type {\n",
       "        vertical-align: middle;\n",
       "    }\n",
       "\n",
       "    .dataframe tbody tr th {\n",
       "        vertical-align: top;\n",
       "    }\n",
       "\n",
       "    .dataframe thead th {\n",
       "        text-align: right;\n",
       "    }\n",
       "</style>\n",
       "<table border=\"1\" class=\"dataframe\">\n",
       "  <thead>\n",
       "    <tr style=\"text-align: right;\">\n",
       "      <th></th>\n",
       "      <th>track_id</th>\n",
       "      <th>item_hashId</th>\n",
       "    </tr>\n",
       "  </thead>\n",
       "  <tbody>\n",
       "    <tr>\n",
       "      <th>0</th>\n",
       "      <td>TRPDNGZ128F4236B10</td>\n",
       "      <td>-1092796021</td>\n",
       "    </tr>\n",
       "    <tr>\n",
       "      <th>1</th>\n",
       "      <td>TRHEQEQ12903CDA12D</td>\n",
       "      <td>1105800579</td>\n",
       "    </tr>\n",
       "    <tr>\n",
       "      <th>2</th>\n",
       "      <td>TRKSXVV128E0788A61</td>\n",
       "      <td>-2089708821</td>\n",
       "    </tr>\n",
       "    <tr>\n",
       "      <th>3</th>\n",
       "      <td>TRKLMTV128F1470AD1</td>\n",
       "      <td>-1838828421</td>\n",
       "    </tr>\n",
       "    <tr>\n",
       "      <th>4</th>\n",
       "      <td>TRKYZYP128E0789089</td>\n",
       "      <td>504742979</td>\n",
       "    </tr>\n",
       "  </tbody>\n",
       "</table>\n",
       "</div>"
      ],
      "text/plain": [
       "             track_id  item_hashId\n",
       "0  TRPDNGZ128F4236B10  -1092796021\n",
       "1  TRHEQEQ12903CDA12D   1105800579\n",
       "2  TRKSXVV128E0788A61  -2089708821\n",
       "3  TRKLMTV128F1470AD1  -1838828421\n",
       "4  TRKYZYP128E0789089    504742979"
      ]
     },
     "execution_count": 6,
     "metadata": {},
     "output_type": "execute_result"
    }
   ],
   "source": [
    "#read in H and check shape\n",
    "hashed = pd.concat(\n",
    "    pd.read_parquet(parquet_file)\n",
    "    for parquet_file in data_dir_h.glob('*.parquet')\n",
    ")\n",
    "\n",
    "print(\"H shape:\",hashed.shape)\n",
    "hashed.head()"
   ]
  },
  {
   "cell_type": "markdown",
   "metadata": {},
   "source": [
    "### Clean Up"
   ]
  },
  {
   "cell_type": "code",
   "execution_count": 7,
   "metadata": {},
   "outputs": [
    {
     "data": {
      "text/html": [
       "<div>\n",
       "<style scoped>\n",
       "    .dataframe tbody tr th:only-of-type {\n",
       "        vertical-align: middle;\n",
       "    }\n",
       "\n",
       "    .dataframe tbody tr th {\n",
       "        vertical-align: top;\n",
       "    }\n",
       "\n",
       "    .dataframe thead th {\n",
       "        text-align: right;\n",
       "    }\n",
       "</style>\n",
       "<table border=\"1\" class=\"dataframe\">\n",
       "  <thead>\n",
       "    <tr style=\"text-align: right;\">\n",
       "      <th></th>\n",
       "      <th>id</th>\n",
       "      <th>features</th>\n",
       "      <th>track_id</th>\n",
       "      <th>duration</th>\n",
       "      <th>artist_familiarity</th>\n",
       "      <th>artist_hotttnesss</th>\n",
       "      <th>year</th>\n",
       "      <th>rock</th>\n",
       "      <th>electronic</th>\n",
       "      <th>alternative rock</th>\n",
       "      <th>...</th>\n",
       "      <th>clarinet</th>\n",
       "      <th>jam</th>\n",
       "      <th>folklore</th>\n",
       "      <th>greek music</th>\n",
       "      <th>experimental pop</th>\n",
       "      <th>techstep</th>\n",
       "      <th>belgium</th>\n",
       "      <th>psychedelic pop</th>\n",
       "      <th>soft rock</th>\n",
       "      <th>space rock</th>\n",
       "    </tr>\n",
       "  </thead>\n",
       "  <tbody>\n",
       "    <tr>\n",
       "      <th>0</th>\n",
       "      <td>-2147302072</td>\n",
       "      <td>[-0.15491447, 0.085363604, -0.041555922, -0.00...</td>\n",
       "      <td>TRIJIDA12903D01B00</td>\n",
       "      <td>191.32036</td>\n",
       "      <td>0.790638</td>\n",
       "      <td>0.445245</td>\n",
       "      <td>0</td>\n",
       "      <td>0.0</td>\n",
       "      <td>0.0</td>\n",
       "      <td>0.0</td>\n",
       "      <td>...</td>\n",
       "      <td>0.0</td>\n",
       "      <td>0.0</td>\n",
       "      <td>0.0</td>\n",
       "      <td>0.0</td>\n",
       "      <td>0.0</td>\n",
       "      <td>0.0</td>\n",
       "      <td>0.0</td>\n",
       "      <td>0.0</td>\n",
       "      <td>0.0</td>\n",
       "      <td>0.0</td>\n",
       "    </tr>\n",
       "    <tr>\n",
       "      <th>1</th>\n",
       "      <td>-2140695272</td>\n",
       "      <td>[-0.0003432132, 0.0060855947, 0.008764722, -0....</td>\n",
       "      <td>TRLVDGV128F92DE95D</td>\n",
       "      <td>260.67546</td>\n",
       "      <td>0.708442</td>\n",
       "      <td>0.452368</td>\n",
       "      <td>2008</td>\n",
       "      <td>1.0</td>\n",
       "      <td>1.0</td>\n",
       "      <td>0.0</td>\n",
       "      <td>...</td>\n",
       "      <td>0.0</td>\n",
       "      <td>0.0</td>\n",
       "      <td>0.0</td>\n",
       "      <td>0.0</td>\n",
       "      <td>0.0</td>\n",
       "      <td>0.0</td>\n",
       "      <td>0.0</td>\n",
       "      <td>0.0</td>\n",
       "      <td>0.0</td>\n",
       "      <td>0.0</td>\n",
       "    </tr>\n",
       "  </tbody>\n",
       "</table>\n",
       "<p>2 rows × 592 columns</p>\n",
       "</div>"
      ],
      "text/plain": [
       "           id                                           features  \\\n",
       "0 -2147302072  [-0.15491447, 0.085363604, -0.041555922, -0.00...   \n",
       "1 -2140695272  [-0.0003432132, 0.0060855947, 0.008764722, -0....   \n",
       "\n",
       "             track_id   duration  artist_familiarity  artist_hotttnesss  year  \\\n",
       "0  TRIJIDA12903D01B00  191.32036            0.790638           0.445245     0   \n",
       "1  TRLVDGV128F92DE95D  260.67546            0.708442           0.452368  2008   \n",
       "\n",
       "   rock  electronic  alternative rock  ...  clarinet  jam  folklore  \\\n",
       "0   0.0         0.0               0.0  ...       0.0  0.0       0.0   \n",
       "1   1.0         1.0               0.0  ...       0.0  0.0       0.0   \n",
       "\n",
       "   greek music  experimental pop  techstep  belgium  psychedelic pop  \\\n",
       "0          0.0               0.0       0.0      0.0              0.0   \n",
       "1          0.0               0.0       0.0      0.0              0.0   \n",
       "\n",
       "   soft rock  space rock  \n",
       "0        0.0         0.0  \n",
       "1        0.0         0.0  \n",
       "\n",
       "[2 rows x 592 columns]"
      ]
     },
     "execution_count": 7,
     "metadata": {},
     "output_type": "execute_result"
    }
   ],
   "source": [
    "#join V with H\n",
    "lat_hash = pd.merge(latentItems, hashed, how='inner', left_on='id', right_on='item_hashId')\n",
    "lat_hash = lat_hash[['id','features','track_id']]\n",
    "\n",
    "#join this new dataframe with the meta data\n",
    "full = pd.merge(lat_hash, meta, how='inner', left_on='track_id', right_on='track_id')\n",
    "\n",
    "full.head(2)"
   ]
  },
  {
   "cell_type": "code",
   "execution_count": 8,
   "metadata": {},
   "outputs": [
    {
     "name": "stdout",
     "output_type": "stream",
     "text": [
      "Share of rows with nulls: 0.0019080102134664367\n"
     ]
    },
    {
     "data": {
      "text/plain": [
       "(320753, 591)"
      ]
     },
     "execution_count": 8,
     "metadata": {},
     "output_type": "execute_result"
    }
   ],
   "source": [
    "#clean up this dataframe\n",
    "full = full.drop(columns='track_id') #we dont need both hashed and unhashed ids\n",
    "\n",
    "#get number of nulls and replace (nulls are missing in term table in DB)\n",
    "print('Share of rows with nulls:',sum(full.rock.isna())/full.shape[0])\n",
    "\n",
    "full = full.fillna(value=0) \n",
    "full.shape"
   ]
  },
  {
   "cell_type": "markdown",
   "metadata": {},
   "source": [
    "### Pre-processing"
   ]
  },
  {
   "cell_type": "code",
   "execution_count": 9,
   "metadata": {},
   "outputs": [],
   "source": [
    "#split into learning and holdout\n",
    "full_train = full.sample(frac=0.8, random_state=13)\n",
    "full_test = full.drop(full_train.index)\n",
    "\n",
    "full_train.shape, full_test.shape\n",
    "\n",
    "#save the ids in order for when we need to rebuild V'\n",
    "train_ids = full_train.id.to_numpy()\n",
    "test_ids = full_test.id.to_numpy()"
   ]
  },
  {
   "cell_type": "code",
   "execution_count": 10,
   "metadata": {},
   "outputs": [],
   "source": [
    "#split into Xs and Ys\n",
    "Y_train = full_train.features\n",
    "Y_train = pd.DataFrame(Y_train.to_list()) #ensure that each element in the list becomes it's own feature\n",
    "X_train = full_train.drop(columns=['id','features'])\n",
    "X_train = X_train.reset_index().drop(columns='index') #need to reset index to align with the Y data\n",
    "\n",
    "\n",
    "Y_test = full_test.features\n",
    "Y_test = pd.DataFrame(Y_test.to_list())\n",
    "X_test = full_test.drop(columns=['id','features'])\n",
    "X_test = X_test.reset_index().drop(columns='index')"
   ]
  },
  {
   "cell_type": "markdown",
   "metadata": {},
   "source": [
    "### Modeling"
   ]
  },
  {
   "cell_type": "code",
   "execution_count": 11,
   "metadata": {},
   "outputs": [],
   "source": [
    "#scale the feautres\n",
    "sc = StandardScaler()\n",
    "X_train_sc = sc.fit_transform(X_train)\n",
    "X_test_sc = sc.transform(X_test)"
   ]
  },
  {
   "cell_type": "code",
   "execution_count": 12,
   "metadata": {},
   "outputs": [
    {
     "name": "stdout",
     "output_type": "stream",
     "text": [
      "time to fit minutes: 5.565398347377777\n"
     ]
    }
   ],
   "source": [
    "#testing Knn\n",
    "start = time.time()\n",
    "model_knn = KNeighborsRegressor(n_neighbors=1)\n",
    "model_knn.fit(X_train_sc, Y_train)\n",
    "end = time.time()\n",
    "print('time to fit minutes:',(end-start)/60)"
   ]
  },
  {
   "cell_type": "code",
   "execution_count": 13,
   "metadata": {},
   "outputs": [
    {
     "data": {
      "text/plain": [
       "(array([0.00093524, 0.00093524, 0.00093524, 0.00093524, 0.00093524,\n",
       "        0.00093524]),\n",
       " array([0.00688166, 0.00688166, 0.00688166, 0.00688167, 0.00688172,\n",
       "        0.00688222]))"
      ]
     },
     "execution_count": 13,
     "metadata": {},
     "output_type": "execute_result"
    }
   ],
   "source": [
    "#testing ridge\n",
    "regs = np.logspace(-3,2,6)\n",
    "\n",
    "rmses = np.zeros(regs.size)\n",
    "r2s = np.zeros(regs.size)\n",
    "\n",
    "for i, r in enumerate(regs):\n",
    "\n",
    "    model = Ridge(alpha=r)\n",
    "    model.fit(X_train_sc, Y_train)\n",
    "\n",
    "    rmses[i] = mean_squared_error(Y_test, model.predict(X_test_sc))\n",
    "    r2s[i] = model.score(X_test_sc, Y_test)\n",
    "    \n",
    "rmses, r2s"
   ]
  },
  {
   "cell_type": "code",
   "execution_count": 14,
   "metadata": {},
   "outputs": [
    {
     "data": {
      "text/plain": [
       "'rmses_l = np.ones(regs.size)\\nr2s_l = np.ones(regs.size)\\n\\nfor i, r in enumerate(regs):\\n\\n    model = Lasso(alpha=r, max_iter=2000)\\n    model.fit(X_train_sc, Y_train)\\n\\n    rmses_l[i] = mean_squared_error(Y_test, model.predict(X_test_sc))\\n    r2s_l[i] = model.score(X_test_sc, Y_test)\\n    \\nrmses_l, r2s_l'"
      ]
     },
     "execution_count": 14,
     "metadata": {},
     "output_type": "execute_result"
    }
   ],
   "source": [
    "#testing lasso\n",
    "rmses_l = np.ones(regs.size)\n",
    "r2s_l = np.ones(regs.size)\n",
    "\n",
    "for i, r in enumerate(regs):\n",
    "\n",
    "    model = Lasso(alpha=r, max_iter=2000)\n",
    "    model.fit(X_train_sc, Y_train)\n",
    "\n",
    "    rmses_l[i] = mean_squared_error(Y_test, model.predict(X_test_sc))\n",
    "    r2s_l[i] = model.score(X_test_sc, Y_test)\n",
    "    \n",
    "rmses_l, r2s_l"
   ]
  },
  {
   "cell_type": "markdown",
   "metadata": {},
   "source": [
    "### Creating Updated Latent Factor Matrix"
   ]
  },
  {
   "cell_type": "code",
   "execution_count": 15,
   "metadata": {},
   "outputs": [
    {
     "name": "stdout",
     "output_type": "stream",
     "text": [
      "minutes to run: 215.50021171967188\n"
     ]
    }
   ],
   "source": [
    "#using kNN -- ridge performed poorly on final recomendation output\n",
    "start = time.time()\n",
    "preds = model_knn.predict(X_test_sc)\n",
    "end = time.time()\n",
    "print(\"minutes to run:\",(end-start)/60)"
   ]
  },
  {
   "cell_type": "code",
   "execution_count": 16,
   "metadata": {},
   "outputs": [],
   "source": [
    "#read the hashed ids to the training data\n",
    "Y_train['id'] = train_ids\n",
    "\n",
    "#rebuild dataframe with predictions and hashed id\n",
    "preds_df = pd.DataFrame(data=np.hstack((preds, test_ids.reshape(-1,1))),\n",
    "            columns=Y_train.columns)\n",
    "preds_df.id = preds_df.id.astype(int)"
   ]
  },
  {
   "cell_type": "code",
   "execution_count": 17,
   "metadata": {},
   "outputs": [],
   "source": [
    "# Drop duplicates\n",
    "preds_df = preds_df.drop_duplicates(\"id\")\n",
    "Y_train = Y_train.drop_duplicates(\"id\")"
   ]
  },
  {
   "cell_type": "code",
   "execution_count": 18,
   "metadata": {},
   "outputs": [
    {
     "data": {
      "text/html": [
       "<div>\n",
       "<style scoped>\n",
       "    .dataframe tbody tr th:only-of-type {\n",
       "        vertical-align: middle;\n",
       "    }\n",
       "\n",
       "    .dataframe tbody tr th {\n",
       "        vertical-align: top;\n",
       "    }\n",
       "\n",
       "    .dataframe thead th {\n",
       "        text-align: right;\n",
       "    }\n",
       "</style>\n",
       "<table border=\"1\" class=\"dataframe\">\n",
       "  <thead>\n",
       "    <tr style=\"text-align: right;\">\n",
       "      <th></th>\n",
       "      <th>id</th>\n",
       "      <th>value</th>\n",
       "    </tr>\n",
       "  </thead>\n",
       "  <tbody>\n",
       "    <tr>\n",
       "      <th>0</th>\n",
       "      <td>-2147438027</td>\n",
       "      <td>[-8.256235014414415e-05, -0.000736088142730295...</td>\n",
       "    </tr>\n",
       "    <tr>\n",
       "      <th>1</th>\n",
       "      <td>-2147427751</td>\n",
       "      <td>[0.03721501678228378, 0.05087555944919586, 0.0...</td>\n",
       "    </tr>\n",
       "    <tr>\n",
       "      <th>2</th>\n",
       "      <td>-2147418984</td>\n",
       "      <td>[0.0034650685265660286, -0.0009087168728001416...</td>\n",
       "    </tr>\n",
       "    <tr>\n",
       "      <th>3</th>\n",
       "      <td>-2147401029</td>\n",
       "      <td>[-0.0026286737993359566, -0.003067507874220609...</td>\n",
       "    </tr>\n",
       "    <tr>\n",
       "      <th>4</th>\n",
       "      <td>-2147354705</td>\n",
       "      <td>[-0.040815819054841995, -0.03625775873661041, ...</td>\n",
       "    </tr>\n",
       "  </tbody>\n",
       "</table>\n",
       "</div>"
      ],
      "text/plain": [
       "           id                                              value\n",
       "0 -2147438027  [-8.256235014414415e-05, -0.000736088142730295...\n",
       "1 -2147427751  [0.03721501678228378, 0.05087555944919586, 0.0...\n",
       "2 -2147418984  [0.0034650685265660286, -0.0009087168728001416...\n",
       "3 -2147401029  [-0.0026286737993359566, -0.003067507874220609...\n",
       "4 -2147354705  [-0.040815819054841995, -0.03625775873661041, ..."
      ]
     },
     "execution_count": 18,
     "metadata": {},
     "output_type": "execute_result"
    }
   ],
   "source": [
    "#convert separate columns into single column of lists\n",
    "Y_train_t = Y_train.melt(id_vars='id').groupby('id')['value'].apply(list).reset_index()\n",
    "Y_train_t.head()"
   ]
  },
  {
   "cell_type": "code",
   "execution_count": 19,
   "metadata": {},
   "outputs": [
    {
     "data": {
      "text/html": [
       "<div>\n",
       "<style scoped>\n",
       "    .dataframe tbody tr th:only-of-type {\n",
       "        vertical-align: middle;\n",
       "    }\n",
       "\n",
       "    .dataframe tbody tr th {\n",
       "        vertical-align: top;\n",
       "    }\n",
       "\n",
       "    .dataframe thead th {\n",
       "        text-align: right;\n",
       "    }\n",
       "</style>\n",
       "<table border=\"1\" class=\"dataframe\">\n",
       "  <thead>\n",
       "    <tr style=\"text-align: right;\">\n",
       "      <th></th>\n",
       "      <th>id</th>\n",
       "      <th>value</th>\n",
       "    </tr>\n",
       "  </thead>\n",
       "  <tbody>\n",
       "    <tr>\n",
       "      <th>0</th>\n",
       "      <td>-2147410333</td>\n",
       "      <td>[-0.005026502069085836, 3.582580029615201e-05,...</td>\n",
       "    </tr>\n",
       "    <tr>\n",
       "      <th>1</th>\n",
       "      <td>-2147356230</td>\n",
       "      <td>[-0.07830337435007095, -0.05532076582312584, -...</td>\n",
       "    </tr>\n",
       "    <tr>\n",
       "      <th>2</th>\n",
       "      <td>-2147310285</td>\n",
       "      <td>[0.02426794171333313, -0.000406861916417256, -...</td>\n",
       "    </tr>\n",
       "    <tr>\n",
       "      <th>3</th>\n",
       "      <td>-2147303676</td>\n",
       "      <td>[-0.019352559000253677, -0.007124537602066994,...</td>\n",
       "    </tr>\n",
       "    <tr>\n",
       "      <th>4</th>\n",
       "      <td>-2147302072</td>\n",
       "      <td>[0.0008778794435784221, -0.016984306275844574,...</td>\n",
       "    </tr>\n",
       "  </tbody>\n",
       "</table>\n",
       "</div>"
      ],
      "text/plain": [
       "           id                                              value\n",
       "0 -2147410333  [-0.005026502069085836, 3.582580029615201e-05,...\n",
       "1 -2147356230  [-0.07830337435007095, -0.05532076582312584, -...\n",
       "2 -2147310285  [0.02426794171333313, -0.000406861916417256, -...\n",
       "3 -2147303676  [-0.019352559000253677, -0.007124537602066994,...\n",
       "4 -2147302072  [0.0008778794435784221, -0.016984306275844574,..."
      ]
     },
     "execution_count": 19,
     "metadata": {},
     "output_type": "execute_result"
    }
   ],
   "source": [
    "#prepeat process for predictions\n",
    "preds_df_t = preds_df.melt(id_vars='id').groupby('id')['value'].apply(list).reset_index()\n",
    "preds_df_t.head()"
   ]
  },
  {
   "cell_type": "code",
   "execution_count": 20,
   "metadata": {},
   "outputs": [
    {
     "data": {
      "text/html": [
       "<div>\n",
       "<style scoped>\n",
       "    .dataframe tbody tr th:only-of-type {\n",
       "        vertical-align: middle;\n",
       "    }\n",
       "\n",
       "    .dataframe tbody tr th {\n",
       "        vertical-align: top;\n",
       "    }\n",
       "\n",
       "    .dataframe thead th {\n",
       "        text-align: right;\n",
       "    }\n",
       "</style>\n",
       "<table border=\"1\" class=\"dataframe\">\n",
       "  <thead>\n",
       "    <tr style=\"text-align: right;\">\n",
       "      <th></th>\n",
       "      <th>id</th>\n",
       "      <th>features</th>\n",
       "    </tr>\n",
       "  </thead>\n",
       "  <tbody>\n",
       "    <tr>\n",
       "      <th>0</th>\n",
       "      <td>-2147438027</td>\n",
       "      <td>[-8.256235014414415e-05, -0.000736088142730295...</td>\n",
       "    </tr>\n",
       "    <tr>\n",
       "      <th>1</th>\n",
       "      <td>-2147427751</td>\n",
       "      <td>[0.03721501678228378, 0.05087555944919586, 0.0...</td>\n",
       "    </tr>\n",
       "    <tr>\n",
       "      <th>2</th>\n",
       "      <td>-2147418984</td>\n",
       "      <td>[0.0034650685265660286, -0.0009087168728001416...</td>\n",
       "    </tr>\n",
       "    <tr>\n",
       "      <th>3</th>\n",
       "      <td>-2147401029</td>\n",
       "      <td>[-0.0026286737993359566, -0.003067507874220609...</td>\n",
       "    </tr>\n",
       "    <tr>\n",
       "      <th>4</th>\n",
       "      <td>-2147354705</td>\n",
       "      <td>[-0.040815819054841995, -0.03625775873661041, ...</td>\n",
       "    </tr>\n",
       "  </tbody>\n",
       "</table>\n",
       "</div>"
      ],
      "text/plain": [
       "           id                                           features\n",
       "0 -2147438027  [-8.256235014414415e-05, -0.000736088142730295...\n",
       "1 -2147427751  [0.03721501678228378, 0.05087555944919586, 0.0...\n",
       "2 -2147418984  [0.0034650685265660286, -0.0009087168728001416...\n",
       "3 -2147401029  [-0.0026286737993359566, -0.003067507874220609...\n",
       "4 -2147354705  [-0.040815819054841995, -0.03625775873661041, ..."
      ]
     },
     "execution_count": 20,
     "metadata": {},
     "output_type": "execute_result"
    }
   ],
   "source": [
    "#combine truth from training with held out predictions\n",
    "latentItems_new = Y_train_t.append(preds_df_t)\n",
    "latentItems_new = latentItems_new.rename(columns={\"value\": \"features\"})\n",
    "latentItems_new = latentItems_new.reset_index(drop=True)\n",
    "\n",
    "latentItems_new.head()"
   ]
  },
  {
   "cell_type": "markdown",
   "metadata": {},
   "source": [
    "### Write Out to Parquet"
   ]
  },
  {
   "cell_type": "code",
   "execution_count": 21,
   "metadata": {},
   "outputs": [],
   "source": [
    "#parquet file is too big. need to write out in chunks\n",
    "div = np.floor(latentItems_new.shape[0]/10).astype(int)\n",
    "\n",
    "#update name before running\n",
    "for i in range(10):\n",
    "    new_path = '../../data/itemFactors_r200_knnupdate{}_v2.parquet'.format(i)\n",
    "    \n",
    "    if i < 9:\n",
    "        latentItems_new.iloc[div*i:div*(i+1)].to_parquet(new_path)\n",
    "        \n",
    "    else:\n",
    "        latentItems_new.iloc[div*i:].to_parquet(new_path)"
   ]
  }
 ],
 "metadata": {
  "kernelspec": {
   "display_name": "Python 3",
   "language": "python",
   "name": "python3"
  },
  "language_info": {
   "codemirror_mode": {
    "name": "ipython",
    "version": 3
   },
   "file_extension": ".py",
   "mimetype": "text/x-python",
   "name": "python",
   "nbconvert_exporter": "python",
   "pygments_lexer": "ipython3",
   "version": "3.8.3"
  }
 },
 "nbformat": 4,
 "nbformat_minor": 4
}
