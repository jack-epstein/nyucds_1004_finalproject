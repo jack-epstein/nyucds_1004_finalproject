{
 "cells": [
  {
   "cell_type": "markdown",
   "metadata": {},
   "source": [
    "# Metadata First Attempt\n",
    "This was the first attempt to build metadata tables for the coldstart model"
   ]
  },
  {
   "cell_type": "code",
   "execution_count": 10,
   "metadata": {},
   "outputs": [],
   "source": [
    "#!/usr/bin/env python\n",
    "# -*- encoding: utf-8 -*-\n",
    "\n",
    "# USAGE:\n",
    "#   python Lab1.py Sample_Song_Dataset.db\n",
    "\n",
    "import sys\n",
    "import sqlite3\n",
    "import time\n",
    "import pandas as pd"
   ]
  },
  {
   "cell_type": "code",
   "execution_count": 4,
   "metadata": {},
   "outputs": [],
   "source": [
    "# The database file should be given as the first argument on the command line\n",
    "db_file = 'track_metadata.db'"
   ]
  },
  {
   "cell_type": "code",
   "execution_count": 8,
   "metadata": {},
   "outputs": [
    {
     "name": "stdout",
     "output_type": "stream",
     "text": [
      "('TRMMMYQ128F932D901', 'Silent Night', 'SOQMMHC12AB0180CB8', 'Monster Ballads X-Mas', 'ARYZTJS1187B98C555', '357ff05d-848a-44cf-b608-cb34b5701ae5', 'Faster Pussy cat', 252.05506, 0.649822100201, 0.394031892714, 2003, 7032331, -1, 0)\n",
      "('TRMMMKD128F425225D', 'Tanssi vaan', 'SOVFVAK12A8C1350D9', 'Karkuteillä', 'ARMVN3U1187FB3A1EB', '8d7ef530-a6fd-4f8f-b2e2-74aec765e0f9', 'Karkkiautomaatti', 156.55138, 0.439603966677, 0.356992107756, 1995, 1514808, -1, 0)\n",
      "('TRMMMRX128F93187D9', 'No One Could Ever', 'SOGTUKN12AB017F4F1', 'Butter', 'ARGEKB01187FB50750', '3d403d44-36ce-465c-ad43-ae877e65adc4', 'Hudson Mohawke', 138.97098, 0.643680572058, 0.437503836595, 2006, 6945353, -1, 0)\n"
     ]
    }
   ],
   "source": [
    "#GET THE \n",
    "with sqlite3.connect(db_file) as conn:\n",
    "    # We use a \"cursor\" to mark our place in the database.\n",
    "    # We could use multiple cursors to keep track of multiple\n",
    "    # queries simultaneously.\n",
    "    cursor = conn.cursor()\n",
    "\n",
    "    # This query counts the number of tracks from the year 1998\n",
    "    cursor.execute('SELECT * FROM songs LIMIT 3')\n",
    "\n",
    "    for row in cursor:\n",
    "        print(row)"
   ]
  },
  {
   "cell_type": "code",
   "execution_count": 9,
   "metadata": {},
   "outputs": [
    {
     "name": "stdout",
     "output_type": "stream",
     "text": [
      "('CREATE TABLE songs (track_id text PRIMARY KEY, title text, song_id text, release text, artist_id text, artist_mbid text, artist_name text, duration real, artist_familiarity real, artist_hotttnesss real, year int, track_7digitalid int, shs_perf int, shs_work int)',)\n"
     ]
    }
   ],
   "source": [
    "#GET THE SCHEMA FOR THE SONGS TABLE\n",
    "with sqlite3.connect(db_file) as conn:\n",
    "    \n",
    "    cursor = conn.cursor()\n",
    "    cursor.execute(\"\"\"SELECT sql \n",
    "                    FROM sqlite_master \n",
    "                    WHERE name = 'songs';\"\"\")\n",
    "\n",
    "    for row in cursor:\n",
    "        print(row)"
   ]
  },
  {
   "cell_type": "code",
   "execution_count": 12,
   "metadata": {},
   "outputs": [],
   "source": [
    "#TURN THIS TABLE INTO A CSV PARQUET FILE\n",
    "with sqlite3.connect(db_file) as conn:\n",
    "    \n",
    "    df = pd.read_sql('SELECT * from songs', conn)\n",
    "    df.to_parquet('items_meta.parquet', index = False)"
   ]
  },
  {
   "cell_type": "code",
   "execution_count": 14,
   "metadata": {},
   "outputs": [],
   "source": [
    "items = pd.read_parquet('items_meta.parquet')"
   ]
  },
  {
   "cell_type": "code",
   "execution_count": 19,
   "metadata": {},
   "outputs": [
    {
     "data": {
      "text/html": [
       "<div>\n",
       "<style scoped>\n",
       "    .dataframe tbody tr th:only-of-type {\n",
       "        vertical-align: middle;\n",
       "    }\n",
       "\n",
       "    .dataframe tbody tr th {\n",
       "        vertical-align: top;\n",
       "    }\n",
       "\n",
       "    .dataframe thead th {\n",
       "        text-align: right;\n",
       "    }\n",
       "</style>\n",
       "<table border=\"1\" class=\"dataframe\">\n",
       "  <thead>\n",
       "    <tr style=\"text-align: right;\">\n",
       "      <th></th>\n",
       "      <th>track_id</th>\n",
       "      <th>title</th>\n",
       "      <th>song_id</th>\n",
       "      <th>release</th>\n",
       "      <th>artist_id</th>\n",
       "      <th>artist_mbid</th>\n",
       "      <th>artist_name</th>\n",
       "      <th>duration</th>\n",
       "      <th>artist_familiarity</th>\n",
       "      <th>artist_hotttnesss</th>\n",
       "      <th>year</th>\n",
       "      <th>track_7digitalid</th>\n",
       "      <th>shs_perf</th>\n",
       "      <th>shs_work</th>\n",
       "    </tr>\n",
       "  </thead>\n",
       "  <tbody>\n",
       "    <tr>\n",
       "      <th>808198</th>\n",
       "      <td>TRDMBIJ128F4290431</td>\n",
       "      <td>Sehr kosmisch</td>\n",
       "      <td>SOFRQTD12A81C233C0</td>\n",
       "      <td>Musik von Harmonia</td>\n",
       "      <td>AR0IVTL1187B9AD520</td>\n",
       "      <td>122d63fc-8671-43e4-9752-34e846d62a9c</td>\n",
       "      <td>Harmonia</td>\n",
       "      <td>655.77751</td>\n",
       "      <td>0.505949</td>\n",
       "      <td>0.848826</td>\n",
       "      <td>0</td>\n",
       "      <td>2436752</td>\n",
       "      <td>-1</td>\n",
       "      <td>0</td>\n",
       "    </tr>\n",
       "  </tbody>\n",
       "</table>\n",
       "</div>"
      ],
      "text/plain": [
       "                  track_id          title             song_id  \\\n",
       "808198  TRDMBIJ128F4290431  Sehr kosmisch  SOFRQTD12A81C233C0   \n",
       "\n",
       "                   release           artist_id  \\\n",
       "808198  Musik von Harmonia  AR0IVTL1187B9AD520   \n",
       "\n",
       "                                 artist_mbid artist_name   duration  \\\n",
       "808198  122d63fc-8671-43e4-9752-34e846d62a9c    Harmonia  655.77751   \n",
       "\n",
       "        artist_familiarity  artist_hotttnesss  year  track_7digitalid  \\\n",
       "808198            0.505949           0.848826     0           2436752   \n",
       "\n",
       "        shs_perf  shs_work  \n",
       "808198        -1         0  "
      ]
     },
     "execution_count": 19,
     "metadata": {},
     "output_type": "execute_result"
    }
   ],
   "source": [
    "#get most played\n",
    "items.loc[items.track_id == 'TRDMBIJ128F4290431']"
   ]
  },
  {
   "cell_type": "code",
   "execution_count": 41,
   "metadata": {},
   "outputs": [],
   "source": [
    "q75 = items.duration.quantile(q=0.75)\n",
    "q50 = items.duration.quantile(q=0.5)\n",
    "q25 = items.duration.quantile(q=0.25)\n",
    "\n",
    "\n",
    "\n",
    "#split into 4 files?\n",
    "df1 = items.loc[items.duration >= q75]\n",
    "df2 = items.loc[(items.duration >= q50) & (items.duration < q75)]\n",
    "df3 = items.loc[(items.duration >= q25) & (items.duration < q50)]\n",
    "df4 = items.loc[items.duration < q25]"
   ]
  },
  {
   "cell_type": "code",
   "execution_count": 42,
   "metadata": {},
   "outputs": [
    {
     "name": "stdout",
     "output_type": "stream",
     "text": [
      "250029\n",
      "249999\n",
      "249989\n",
      "249983\n"
     ]
    },
    {
     "data": {
      "text/plain": [
       "1000000"
      ]
     },
     "execution_count": 42,
     "metadata": {},
     "output_type": "execute_result"
    }
   ],
   "source": [
    "dfs = [df1,df2,df3,df4]\n",
    "\n",
    "tot = 0\n",
    "for d in dfs:\n",
    "    tot += d.shape[0]\n",
    "    print(d.shape[0])\n",
    "    \n",
    "tot"
   ]
  },
  {
   "cell_type": "code",
   "execution_count": 43,
   "metadata": {},
   "outputs": [],
   "source": [
    "df1.to_parquet('items_meta_1.parquet')\n",
    "df2.to_parquet('items_meta_2.parquet')\n",
    "df3.to_parquet('items_meta_3.parquet')\n",
    "df4.to_parquet('items_meta_4.parquet')"
   ]
  }
 ],
 "metadata": {
  "kernelspec": {
   "display_name": "Python 3",
   "language": "python",
   "name": "python3"
  },
  "language_info": {
   "codemirror_mode": {
    "name": "ipython",
    "version": 3
   },
   "file_extension": ".py",
   "mimetype": "text/x-python",
   "name": "python",
   "nbconvert_exporter": "python",
   "pygments_lexer": "ipython3",
   "version": "3.8.3"
  }
 },
 "nbformat": 4,
 "nbformat_minor": 4
}
